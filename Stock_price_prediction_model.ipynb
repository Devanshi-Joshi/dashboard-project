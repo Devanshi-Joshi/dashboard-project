{
 "cells": [
  {
   "cell_type": "code",
   "execution_count": 1,
   "id": "2b782260",
   "metadata": {},
   "outputs": [],
   "source": [
    "#!pip install git+https://github.com/pydata/pandas-datareader.git\n",
    "# conda install matplotlib\n",
    "#!pip install tensorflow\n",
    "#!pip install keras\n",
    "#!pip install yfinance"
   ]
  },
  {
   "cell_type": "code",
   "execution_count": 2,
   "id": "611b36ac",
   "metadata": {},
   "outputs": [],
   "source": [
    "import pandas as pd\n",
    "import numpy as np\n",
    "import matplotlib.pyplot as plt\n",
    "import datetime \n",
    "from datetime import date\n",
    "# import pandas_datareader as data\n",
    "import yfinance as yf\n",
    "import requests\n",
    "from bs4 import BeautifulSoup"
   ]
  },
  {
   "cell_type": "code",
   "execution_count": 3,
   "id": "2780bb2b",
   "metadata": {},
   "outputs": [
    {
     "name": "stdout",
     "output_type": "stream",
     "text": [
      "Start Date(yyyy-mm-dd): 2010-01-01\n",
      "End Date of today?[y/n] y\n",
      "Stock ticker: AAPL\n"
     ]
    }
   ],
   "source": [
    "start = input(\"Start Date(yyyy-mm-dd): \")\n",
    "end = input(\"End Date of today?[y/n] \")\n",
    "if(end == 'y'):\n",
    "    end = date.today().strftime('%Y-%m-%d')\n",
    "else:\n",
    "    end = input(\"End Date \")\n",
    "ticker = input(\"Stock ticker: \")\n",
    "stock = yf.Ticker(ticker)"
   ]
  },
  {
   "cell_type": "code",
   "execution_count": 4,
   "id": "fe139d24",
   "metadata": {},
   "outputs": [],
   "source": [
    "df = stock.history(start=start, end=end, interval=\"1d\")\n",
    "df.reset_index(inplace=True)"
   ]
  },
  {
   "cell_type": "code",
   "execution_count": 5,
   "id": "37674a2d",
   "metadata": {},
   "outputs": [
    {
     "data": {
      "text/html": [
       "<div>\n",
       "<style scoped>\n",
       "    .dataframe tbody tr th:only-of-type {\n",
       "        vertical-align: middle;\n",
       "    }\n",
       "\n",
       "    .dataframe tbody tr th {\n",
       "        vertical-align: top;\n",
       "    }\n",
       "\n",
       "    .dataframe thead th {\n",
       "        text-align: right;\n",
       "    }\n",
       "</style>\n",
       "<table border=\"1\" class=\"dataframe\">\n",
       "  <thead>\n",
       "    <tr style=\"text-align: right;\">\n",
       "      <th></th>\n",
       "      <th>Date</th>\n",
       "      <th>Open</th>\n",
       "      <th>High</th>\n",
       "      <th>Low</th>\n",
       "      <th>Close</th>\n",
       "      <th>Volume</th>\n",
       "      <th>Dividends</th>\n",
       "      <th>Stock Splits</th>\n",
       "    </tr>\n",
       "  </thead>\n",
       "  <tbody>\n",
       "    <tr>\n",
       "      <th>0</th>\n",
       "      <td>2010-01-04 00:00:00-05:00</td>\n",
       "      <td>6.508334</td>\n",
       "      <td>6.540962</td>\n",
       "      <td>6.476315</td>\n",
       "      <td>6.526020</td>\n",
       "      <td>493729600</td>\n",
       "      <td>0.0</td>\n",
       "      <td>0.0</td>\n",
       "    </tr>\n",
       "    <tr>\n",
       "      <th>1</th>\n",
       "      <td>2010-01-05 00:00:00-05:00</td>\n",
       "      <td>6.544013</td>\n",
       "      <td>6.574202</td>\n",
       "      <td>6.502846</td>\n",
       "      <td>6.537304</td>\n",
       "      <td>601904800</td>\n",
       "      <td>0.0</td>\n",
       "      <td>0.0</td>\n",
       "    </tr>\n",
       "    <tr>\n",
       "      <th>2</th>\n",
       "      <td>2010-01-06 00:00:00-05:00</td>\n",
       "      <td>6.537302</td>\n",
       "      <td>6.563222</td>\n",
       "      <td>6.426609</td>\n",
       "      <td>6.433318</td>\n",
       "      <td>552160000</td>\n",
       "      <td>0.0</td>\n",
       "      <td>0.0</td>\n",
       "    </tr>\n",
       "    <tr>\n",
       "      <th>3</th>\n",
       "      <td>2010-01-07 00:00:00-05:00</td>\n",
       "      <td>6.457105</td>\n",
       "      <td>6.464729</td>\n",
       "      <td>6.374771</td>\n",
       "      <td>6.421427</td>\n",
       "      <td>477131200</td>\n",
       "      <td>0.0</td>\n",
       "      <td>0.0</td>\n",
       "    </tr>\n",
       "    <tr>\n",
       "      <th>4</th>\n",
       "      <td>2010-01-08 00:00:00-05:00</td>\n",
       "      <td>6.412887</td>\n",
       "      <td>6.464727</td>\n",
       "      <td>6.375075</td>\n",
       "      <td>6.464117</td>\n",
       "      <td>447610800</td>\n",
       "      <td>0.0</td>\n",
       "      <td>0.0</td>\n",
       "    </tr>\n",
       "  </tbody>\n",
       "</table>\n",
       "</div>"
      ],
      "text/plain": [
       "                       Date      Open      High       Low     Close  \\\n",
       "0 2010-01-04 00:00:00-05:00  6.508334  6.540962  6.476315  6.526020   \n",
       "1 2010-01-05 00:00:00-05:00  6.544013  6.574202  6.502846  6.537304   \n",
       "2 2010-01-06 00:00:00-05:00  6.537302  6.563222  6.426609  6.433318   \n",
       "3 2010-01-07 00:00:00-05:00  6.457105  6.464729  6.374771  6.421427   \n",
       "4 2010-01-08 00:00:00-05:00  6.412887  6.464727  6.375075  6.464117   \n",
       "\n",
       "      Volume  Dividends  Stock Splits  \n",
       "0  493729600        0.0           0.0  \n",
       "1  601904800        0.0           0.0  \n",
       "2  552160000        0.0           0.0  \n",
       "3  477131200        0.0           0.0  \n",
       "4  447610800        0.0           0.0  "
      ]
     },
     "execution_count": 5,
     "metadata": {},
     "output_type": "execute_result"
    }
   ],
   "source": [
    "df.head()"
   ]
  },
  {
   "cell_type": "code",
   "execution_count": 6,
   "id": "1a236ee2",
   "metadata": {},
   "outputs": [
    {
     "data": {
      "text/html": [
       "<div>\n",
       "<style scoped>\n",
       "    .dataframe tbody tr th:only-of-type {\n",
       "        vertical-align: middle;\n",
       "    }\n",
       "\n",
       "    .dataframe tbody tr th {\n",
       "        vertical-align: top;\n",
       "    }\n",
       "\n",
       "    .dataframe thead th {\n",
       "        text-align: right;\n",
       "    }\n",
       "</style>\n",
       "<table border=\"1\" class=\"dataframe\">\n",
       "  <thead>\n",
       "    <tr style=\"text-align: right;\">\n",
       "      <th></th>\n",
       "      <th>Date</th>\n",
       "      <th>Open</th>\n",
       "      <th>High</th>\n",
       "      <th>Low</th>\n",
       "      <th>Close</th>\n",
       "      <th>Volume</th>\n",
       "      <th>Dividends</th>\n",
       "      <th>Stock Splits</th>\n",
       "    </tr>\n",
       "  </thead>\n",
       "  <tbody>\n",
       "    <tr>\n",
       "      <th>3227</th>\n",
       "      <td>2022-10-27 00:00:00-04:00</td>\n",
       "      <td>148.070007</td>\n",
       "      <td>149.050003</td>\n",
       "      <td>144.130005</td>\n",
       "      <td>144.800003</td>\n",
       "      <td>109180200</td>\n",
       "      <td>0.0</td>\n",
       "      <td>0.0</td>\n",
       "    </tr>\n",
       "    <tr>\n",
       "      <th>3228</th>\n",
       "      <td>2022-10-28 00:00:00-04:00</td>\n",
       "      <td>148.199997</td>\n",
       "      <td>157.500000</td>\n",
       "      <td>147.820007</td>\n",
       "      <td>155.740005</td>\n",
       "      <td>164762400</td>\n",
       "      <td>0.0</td>\n",
       "      <td>0.0</td>\n",
       "    </tr>\n",
       "    <tr>\n",
       "      <th>3229</th>\n",
       "      <td>2022-10-31 00:00:00-04:00</td>\n",
       "      <td>153.160004</td>\n",
       "      <td>154.240005</td>\n",
       "      <td>151.919998</td>\n",
       "      <td>153.339996</td>\n",
       "      <td>97943200</td>\n",
       "      <td>0.0</td>\n",
       "      <td>0.0</td>\n",
       "    </tr>\n",
       "    <tr>\n",
       "      <th>3230</th>\n",
       "      <td>2022-11-01 00:00:00-04:00</td>\n",
       "      <td>155.080002</td>\n",
       "      <td>155.449997</td>\n",
       "      <td>149.130005</td>\n",
       "      <td>150.649994</td>\n",
       "      <td>80379300</td>\n",
       "      <td>0.0</td>\n",
       "      <td>0.0</td>\n",
       "    </tr>\n",
       "    <tr>\n",
       "      <th>3231</th>\n",
       "      <td>2022-11-02 00:00:00-04:00</td>\n",
       "      <td>148.945007</td>\n",
       "      <td>152.169998</td>\n",
       "      <td>145.500000</td>\n",
       "      <td>146.240005</td>\n",
       "      <td>71224560</td>\n",
       "      <td>0.0</td>\n",
       "      <td>0.0</td>\n",
       "    </tr>\n",
       "  </tbody>\n",
       "</table>\n",
       "</div>"
      ],
      "text/plain": [
       "                          Date        Open        High         Low  \\\n",
       "3227 2022-10-27 00:00:00-04:00  148.070007  149.050003  144.130005   \n",
       "3228 2022-10-28 00:00:00-04:00  148.199997  157.500000  147.820007   \n",
       "3229 2022-10-31 00:00:00-04:00  153.160004  154.240005  151.919998   \n",
       "3230 2022-11-01 00:00:00-04:00  155.080002  155.449997  149.130005   \n",
       "3231 2022-11-02 00:00:00-04:00  148.945007  152.169998  145.500000   \n",
       "\n",
       "           Close     Volume  Dividends  Stock Splits  \n",
       "3227  144.800003  109180200        0.0           0.0  \n",
       "3228  155.740005  164762400        0.0           0.0  \n",
       "3229  153.339996   97943200        0.0           0.0  \n",
       "3230  150.649994   80379300        0.0           0.0  \n",
       "3231  146.240005   71224560        0.0           0.0  "
      ]
     },
     "execution_count": 6,
     "metadata": {},
     "output_type": "execute_result"
    }
   ],
   "source": [
    "df.tail()"
   ]
  },
  {
   "cell_type": "code",
   "execution_count": 7,
   "id": "d294bf9a",
   "metadata": {},
   "outputs": [],
   "source": [
    "df = df.reset_index()\n"
   ]
  },
  {
   "cell_type": "code",
   "execution_count": 8,
   "id": "a714a55a",
   "metadata": {},
   "outputs": [
    {
     "data": {
      "text/html": [
       "<div>\n",
       "<style scoped>\n",
       "    .dataframe tbody tr th:only-of-type {\n",
       "        vertical-align: middle;\n",
       "    }\n",
       "\n",
       "    .dataframe tbody tr th {\n",
       "        vertical-align: top;\n",
       "    }\n",
       "\n",
       "    .dataframe thead th {\n",
       "        text-align: right;\n",
       "    }\n",
       "</style>\n",
       "<table border=\"1\" class=\"dataframe\">\n",
       "  <thead>\n",
       "    <tr style=\"text-align: right;\">\n",
       "      <th></th>\n",
       "      <th>index</th>\n",
       "      <th>Date</th>\n",
       "      <th>Open</th>\n",
       "      <th>High</th>\n",
       "      <th>Low</th>\n",
       "      <th>Close</th>\n",
       "      <th>Volume</th>\n",
       "      <th>Dividends</th>\n",
       "      <th>Stock Splits</th>\n",
       "    </tr>\n",
       "  </thead>\n",
       "  <tbody>\n",
       "    <tr>\n",
       "      <th>0</th>\n",
       "      <td>0</td>\n",
       "      <td>2010-01-04 00:00:00-05:00</td>\n",
       "      <td>6.508334</td>\n",
       "      <td>6.540962</td>\n",
       "      <td>6.476315</td>\n",
       "      <td>6.526020</td>\n",
       "      <td>493729600</td>\n",
       "      <td>0.0</td>\n",
       "      <td>0.0</td>\n",
       "    </tr>\n",
       "    <tr>\n",
       "      <th>1</th>\n",
       "      <td>1</td>\n",
       "      <td>2010-01-05 00:00:00-05:00</td>\n",
       "      <td>6.544013</td>\n",
       "      <td>6.574202</td>\n",
       "      <td>6.502846</td>\n",
       "      <td>6.537304</td>\n",
       "      <td>601904800</td>\n",
       "      <td>0.0</td>\n",
       "      <td>0.0</td>\n",
       "    </tr>\n",
       "    <tr>\n",
       "      <th>2</th>\n",
       "      <td>2</td>\n",
       "      <td>2010-01-06 00:00:00-05:00</td>\n",
       "      <td>6.537302</td>\n",
       "      <td>6.563222</td>\n",
       "      <td>6.426609</td>\n",
       "      <td>6.433318</td>\n",
       "      <td>552160000</td>\n",
       "      <td>0.0</td>\n",
       "      <td>0.0</td>\n",
       "    </tr>\n",
       "    <tr>\n",
       "      <th>3</th>\n",
       "      <td>3</td>\n",
       "      <td>2010-01-07 00:00:00-05:00</td>\n",
       "      <td>6.457105</td>\n",
       "      <td>6.464729</td>\n",
       "      <td>6.374771</td>\n",
       "      <td>6.421427</td>\n",
       "      <td>477131200</td>\n",
       "      <td>0.0</td>\n",
       "      <td>0.0</td>\n",
       "    </tr>\n",
       "    <tr>\n",
       "      <th>4</th>\n",
       "      <td>4</td>\n",
       "      <td>2010-01-08 00:00:00-05:00</td>\n",
       "      <td>6.412887</td>\n",
       "      <td>6.464727</td>\n",
       "      <td>6.375075</td>\n",
       "      <td>6.464117</td>\n",
       "      <td>447610800</td>\n",
       "      <td>0.0</td>\n",
       "      <td>0.0</td>\n",
       "    </tr>\n",
       "  </tbody>\n",
       "</table>\n",
       "</div>"
      ],
      "text/plain": [
       "   index                      Date      Open      High       Low     Close  \\\n",
       "0      0 2010-01-04 00:00:00-05:00  6.508334  6.540962  6.476315  6.526020   \n",
       "1      1 2010-01-05 00:00:00-05:00  6.544013  6.574202  6.502846  6.537304   \n",
       "2      2 2010-01-06 00:00:00-05:00  6.537302  6.563222  6.426609  6.433318   \n",
       "3      3 2010-01-07 00:00:00-05:00  6.457105  6.464729  6.374771  6.421427   \n",
       "4      4 2010-01-08 00:00:00-05:00  6.412887  6.464727  6.375075  6.464117   \n",
       "\n",
       "      Volume  Dividends  Stock Splits  \n",
       "0  493729600        0.0           0.0  \n",
       "1  601904800        0.0           0.0  \n",
       "2  552160000        0.0           0.0  \n",
       "3  477131200        0.0           0.0  \n",
       "4  447610800        0.0           0.0  "
      ]
     },
     "execution_count": 8,
     "metadata": {},
     "output_type": "execute_result"
    }
   ],
   "source": [
    "df.head()"
   ]
  },
  {
   "cell_type": "code",
   "execution_count": 9,
   "id": "260c8b84",
   "metadata": {},
   "outputs": [
    {
     "data": {
      "text/plain": [
       "[<matplotlib.lines.Line2D at 0x284b4364eb0>]"
      ]
     },
     "execution_count": 9,
     "metadata": {},
     "output_type": "execute_result"
    },
    {
     "data": {
      "image/png": "[encoded data removed]",
      "text/plain": [
       "<Figure size 864x576 with 1 Axes>"
      ]
     },
     "metadata": {
      "needs_background": "light"
     },
     "output_type": "display_data"
    }
   ],
   "source": [
    "#basic plot of the closing price of the stock\n",
    "plt.figure(figsize=(12,8))\n",
    "plt.plot(df.Close)"
   ]
  },
  {
   "cell_type": "code",
   "execution_count": 10,
   "id": "77983bf5",
   "metadata": {},
   "outputs": [
    {
     "data": {
      "text/plain": [
       "Rolling [window=100,center=False,axis=0,method=single]"
      ]
     },
     "execution_count": 10,
     "metadata": {},
     "output_type": "execute_result"
    }
   ],
   "source": [
    "df.Close.rolling(100)"
   ]
  },
  {
   "cell_type": "code",
   "execution_count": 11,
   "id": "3735ac31",
   "metadata": {},
   "outputs": [
    {
     "data": {
      "image/png": "[encoded data removed]",
      "text/plain": [
       "<Figure size 864x576 with 1 Axes>"
      ]
     },
     "metadata": {
      "needs_background": "light"
     },
     "output_type": "display_data"
    }
   ],
   "source": [
    "#simultaneously plotting the 100 day moving average and 200 day movign average on the same plot\n",
    "plt.figure(figsize=(12,8))\n",
    "plt.plot(df.Close)\n",
    "mov_avg100 = df.Close.rolling(100).mean()\n",
    "plt.plot(mov_avg100, 'r')\n",
    "mov_avg200 = df.Close.rolling(200).mean()\n",
    "plt.plot(mov_avg200, 'g')\n",
    "plt.legend([\"Closing Price\", \"100 Day Moving Average\", \"200 Day Moving Average\"])\n",
    "plt.title(\"Moving Averages and Closing Price\")\n",
    "plt.xlabel(\"Number of days\")\n",
    "plt.ylabel(\"Price\")\n",
    "plt.show()"
   ]
  },
  {
   "cell_type": "code",
   "execution_count": 12,
   "id": "6af8b9a5",
   "metadata": {},
   "outputs": [],
   "source": [
    "#splitting the dataset into train and test data\n",
    "df_train = pd.DataFrame(df[\"Close\"].loc[0:df.shape[0]*0.7])\n",
    "df_test = pd.DataFrame(df[\"Close\"].loc[df.shape[0]*0.7:])"
   ]
  },
  {
   "cell_type": "code",
   "execution_count": 13,
   "id": "ec386f56",
   "metadata": {},
   "outputs": [],
   "source": [
    "from sklearn.preprocessing import MinMaxScaler\n",
    "scaler = MinMaxScaler(feature_range=(0,1))\n",
    "df_train_scaled = scaler.fit_transform(df_train)\n"
   ]
  },
  {
   "cell_type": "code",
   "execution_count": 14,
   "id": "5f1d1c6b",
   "metadata": {},
   "outputs": [],
   "source": [
    "#predicting the stock price of the upcoming day based on the prices in the last 100 days\n",
    "X_train = []   #prices of past 100 days\n",
    "Y_train = []   #price to be predicted\n",
    "for i in range(100,df_train.shape[0]-1):\n",
    "    X_train.append(df_train_scaled[i-100:i])\n",
    "    Y_train.append(df_train_scaled[i,0])\n",
    "\n",
    "X_train, Y_train = np.array(X_train), np.array(Y_train)"
   ]
  },
  {
   "cell_type": "code",
   "execution_count": 15,
   "id": "b2b44556",
   "metadata": {},
   "outputs": [],
   "source": [
    "#Machine Learning Model for prediction\n",
    "import tensorflow as tf\n",
    "from tensorflow.keras.layers import Dense, Dropout, LSTM\n",
    "from tensorflow.keras.models import Sequential"
   ]
  },
  {
   "cell_type": "code",
   "execution_count": 16,
   "id": "d9edf3d8",
   "metadata": {},
   "outputs": [],
   "source": [
    "model = Sequential()\n",
    "#adding layers to the model\n",
    "\n",
    "#layer 1\n",
    "model.add(LSTM(units=50, activation=\"relu\", return_sequences=True, input_shape = (X_train.shape[1],1), name=\"layer_1\"))\n",
    "model.add(Dropout(0.2))\n",
    "\n",
    "#layer 2\n",
    "model.add(LSTM(units=60, activation=\"relu\", return_sequences=True, name=\"layer_2\"))\n",
    "model.add(Dropout(0.3))\n",
    "\n",
    "#layer 3\n",
    "model.add(LSTM(units=80, activation=\"relu\", return_sequences=True, name=\"layer_3\"))\n",
    "model.add(Dropout(0.4))\n",
    "\n",
    "#layer 4\n",
    "model.add(LSTM(units=120, activation=\"relu\", name=\"layer_4\"))\n",
    "model.add(Dropout(0.5))\n",
    "\n",
    "#output layer\n",
    "model.add(Dense(units=1, name=\"layer_5\"))"
   ]
  },
  {
   "cell_type": "code",
   "execution_count": 17,
   "id": "857c66c0",
   "metadata": {},
   "outputs": [
    {
     "name": "stdout",
     "output_type": "stream",
     "text": [
      "Model: \"sequential\"\n",
      "_________________________________________________________________\n",
      " Layer (type)                Output Shape              Param #   \n",
      "=================================================================\n",
      " layer_1 (LSTM)              (None, 100, 50)           10400     \n",
      "                                                                 \n",
      " dropout (Dropout)           (None, 100, 50)           0         \n",
      "                                                                 \n",
      " layer_2 (LSTM)              (None, 100, 60)           26640     \n",
      "                                                                 \n",
      " dropout_1 (Dropout)         (None, 100, 60)           0         \n",
      "                                                                 \n",
      " layer_3 (LSTM)              (None, 100, 80)           45120     \n",
      "                                                                 \n",
      " dropout_2 (Dropout)         (None, 100, 80)           0         \n",
      "                                                                 \n",
      " layer_4 (LSTM)              (None, 120)               96480     \n",
      "                                                                 \n",
      " dropout_3 (Dropout)         (None, 120)               0         \n",
      "                                                                 \n",
      " layer_5 (Dense)             (None, 1)                 121       \n",
      "                                                                 \n",
      "=================================================================\n",
      "Total params: 178,761\n",
      "Trainable params: 178,761\n",
      "Non-trainable params: 0\n",
      "_________________________________________________________________\n"
     ]
    }
   ],
   "source": [
    "model.summary()"
   ]
  },
  {
   "cell_type": "code",
   "execution_count": 18,
   "id": "7c63fd47",
   "metadata": {},
   "outputs": [
    {
     "name": "stdout",
     "output_type": "stream",
     "text": [
      "Epoch 1/50\n",
      "68/68 [==============================] - 18s 170ms/step - loss: 0.0302\n",
      "Epoch 2/50\n",
      "68/68 [==============================] - 10s 151ms/step - loss: 0.0061\n",
      "Epoch 3/50\n",
      "68/68 [==============================] - 13s 187ms/step - loss: 0.0061\n",
      "Epoch 4/50\n",
      "68/68 [==============================] - 12s 178ms/step - loss: 0.0047\n",
      "Epoch 5/50\n",
      "68/68 [==============================] - 12s 183ms/step - loss: 0.0043\n",
      "Epoch 6/50\n",
      "68/68 [==============================] - 12s 184ms/step - loss: 0.0040\n",
      "Epoch 7/50\n",
      "68/68 [==============================] - 12s 175ms/step - loss: 0.0043\n",
      "Epoch 8/50\n",
      "68/68 [==============================] - 12s 177ms/step - loss: 0.0039\n",
      "Epoch 9/50\n",
      "68/68 [==============================] - 12s 172ms/step - loss: 0.0035\n",
      "Epoch 10/50\n",
      "68/68 [==============================] - 12s 178ms/step - loss: 0.0031\n",
      "Epoch 11/50\n",
      "68/68 [==============================] - 12s 170ms/step - loss: 0.0036\n",
      "Epoch 12/50\n",
      "68/68 [==============================] - 13s 186ms/step - loss: 0.0032\n",
      "Epoch 13/50\n",
      "68/68 [==============================] - 13s 185ms/step - loss: 0.0030\n",
      "Epoch 14/50\n",
      "68/68 [==============================] - 13s 186ms/step - loss: 0.0029\n",
      "Epoch 15/50\n",
      "68/68 [==============================] - 12s 181ms/step - loss: 0.0027\n",
      "Epoch 16/50\n",
      "68/68 [==============================] - 13s 198ms/step - loss: 0.0025\n",
      "Epoch 17/50\n",
      "68/68 [==============================] - 13s 192ms/step - loss: 0.0029\n",
      "Epoch 18/50\n",
      "68/68 [==============================] - 12s 183ms/step - loss: 0.0026\n",
      "Epoch 19/50\n",
      "68/68 [==============================] - 12s 181ms/step - loss: 0.0025\n",
      "Epoch 20/50\n",
      "68/68 [==============================] - 12s 174ms/step - loss: 0.0025\n",
      "Epoch 21/50\n",
      "68/68 [==============================] - 11s 167ms/step - loss: 0.0025\n",
      "Epoch 22/50\n",
      "68/68 [==============================] - 12s 184ms/step - loss: 0.0022\n",
      "Epoch 23/50\n",
      "68/68 [==============================] - 12s 179ms/step - loss: 0.0025\n",
      "Epoch 24/50\n",
      "68/68 [==============================] - 12s 177ms/step - loss: 0.0020\n",
      "Epoch 25/50\n",
      "68/68 [==============================] - 12s 173ms/step - loss: 0.0021\n",
      "Epoch 26/50\n",
      "68/68 [==============================] - 12s 174ms/step - loss: 0.0020\n",
      "Epoch 27/50\n",
      "68/68 [==============================] - 12s 182ms/step - loss: 0.0021\n",
      "Epoch 28/50\n",
      "68/68 [==============================] - 13s 188ms/step - loss: 0.0022\n",
      "Epoch 29/50\n",
      "68/68 [==============================] - 12s 180ms/step - loss: 0.0021\n",
      "Epoch 30/50\n",
      "68/68 [==============================] - 12s 177ms/step - loss: 0.0020\n",
      "Epoch 31/50\n",
      "68/68 [==============================] - 12s 176ms/step - loss: 0.0020\n",
      "Epoch 32/50\n",
      "68/68 [==============================] - 12s 181ms/step - loss: 0.0021\n",
      "Epoch 33/50\n",
      "68/68 [==============================] - 14s 208ms/step - loss: 0.0022\n",
      "Epoch 34/50\n",
      "68/68 [==============================] - 14s 198ms/step - loss: 0.0017\n",
      "Epoch 35/50\n",
      "68/68 [==============================] - 13s 190ms/step - loss: 0.0020\n",
      "Epoch 36/50\n",
      "68/68 [==============================] - 13s 195ms/step - loss: 0.0018\n",
      "Epoch 37/50\n",
      "68/68 [==============================] - 12s 180ms/step - loss: 0.0019\n",
      "Epoch 38/50\n",
      "68/68 [==============================] - 12s 180ms/step - loss: 0.0018\n",
      "Epoch 39/50\n",
      "68/68 [==============================] - 12s 172ms/step - loss: 0.0021\n",
      "Epoch 40/50\n",
      "68/68 [==============================] - 12s 172ms/step - loss: 0.0018\n",
      "Epoch 41/50\n",
      "68/68 [==============================] - 12s 176ms/step - loss: 0.0017\n",
      "Epoch 42/50\n",
      "68/68 [==============================] - 12s 178ms/step - loss: 0.0017\n",
      "Epoch 43/50\n",
      "68/68 [==============================] - 12s 170ms/step - loss: 0.0019\n",
      "Epoch 44/50\n",
      "68/68 [==============================] - 12s 176ms/step - loss: 0.0018\n",
      "Epoch 45/50\n",
      "68/68 [==============================] - 12s 173ms/step - loss: 0.0017\n",
      "Epoch 46/50\n",
      "68/68 [==============================] - 12s 177ms/step - loss: 0.0018\n",
      "Epoch 47/50\n",
      "68/68 [==============================] - 12s 179ms/step - loss: 0.0017\n",
      "Epoch 48/50\n",
      "68/68 [==============================] - 12s 179ms/step - loss: 0.0017\n",
      "Epoch 49/50\n",
      "68/68 [==============================] - 12s 177ms/step - loss: 0.0015\n",
      "Epoch 50/50\n",
      "68/68 [==============================] - 12s 179ms/step - loss: 0.0016\n"
     ]
    },
    {
     "data": {
      "text/plain": [
       "<keras.callbacks.History at 0x284c664f970>"
      ]
     },
     "execution_count": 18,
     "metadata": {},
     "output_type": "execute_result"
    }
   ],
   "source": [
    "model.compile(optimizer=\"adam\", loss=\"mean_squared_error\")\n",
    "model.fit(X_train,Y_train, epochs=50)\n"
   ]
  },
  {
   "cell_type": "code",
   "execution_count": 19,
   "id": "a58d47f3",
   "metadata": {},
   "outputs": [
    {
     "name": "stderr",
     "output_type": "stream",
     "text": [
      "C:\\Users\\devan\\AppData\\Local\\Temp\\ipykernel_16180\\2581507372.py:5: FutureWarning: The frame.append method is deprecated and will be removed from pandas in a future version. Use pandas.concat instead.\n",
      "  df_test_final = past_100_days.append(df_test, ignore_index=True)\n"
     ]
    }
   ],
   "source": [
    "#to make predictions of the testing data we need data of the past 100 days from the training data\n",
    "#thus we append\n",
    "\n",
    "past_100_days = df_train.tail(100)\n",
    "df_test_final = past_100_days.append(df_test, ignore_index=True)\n",
    "\n",
    "#dataset has been formed, now all the same processes are repeated as were done for training data\n",
    "df_test_scaled = scaler.fit_transform(df_test_final)\n",
    "\n",
    "\n",
    "X_test = []   #prices of past 100 days\n",
    "Y_test = []   #price to be predicted\n",
    "for i in range(100,df_test.shape[0]-1):\n",
    "    X_test.append(df_test_scaled[i-100:i])\n",
    "    Y_test.append(df_test_scaled[i])\n",
    "\n",
    "X_test, Y_test = np.array(X_test), np.array(Y_test)"
   ]
  },
  {
   "cell_type": "code",
   "execution_count": 20,
   "id": "6c6e7121",
   "metadata": {},
   "outputs": [
    {
     "name": "stdout",
     "output_type": "stream",
     "text": [
      "28/28 [==============================] - 2s 41ms/step\n"
     ]
    }
   ],
   "source": [
    "y_predicted = model.predict(X_test)"
   ]
  },
  {
   "cell_type": "code",
   "execution_count": 21,
   "id": "49db46bf",
   "metadata": {},
   "outputs": [
    {
     "data": {
      "text/plain": [
       "array([[[0.01338261],\n",
       "        [0.01360812],\n",
       "        [0.01152999],\n",
       "        ...,\n",
       "        [0.03334076],\n",
       "        [0.03240228],\n",
       "        [0.03172586]],\n",
       "\n",
       "       [[0.01360812],\n",
       "        [0.01152999],\n",
       "        [0.01129236],\n",
       "        ...,\n",
       "        [0.03240228],\n",
       "        [0.03172586],\n",
       "        [0.0373568 ]],\n",
       "\n",
       "       [[0.01152999],\n",
       "        [0.01129236],\n",
       "        [0.0121455 ],\n",
       "        ...,\n",
       "        [0.03172586],\n",
       "        [0.0373568 ],\n",
       "        [0.03950802]],\n",
       "\n",
       "       ...,\n",
       "\n",
       "       [[0.84946596],\n",
       "        [0.87771755],\n",
       "        [0.88059551],\n",
       "        ...,\n",
       "        [0.66008691],\n",
       "        [0.64047649],\n",
       "        [0.6110126 ]],\n",
       "\n",
       "       [[0.87771755],\n",
       "        [0.88059551],\n",
       "        [0.88577568],\n",
       "        ...,\n",
       "        [0.64047649],\n",
       "        [0.6110126 ],\n",
       "        [0.59217467]],\n",
       "\n",
       "       [[0.88059551],\n",
       "        [0.88577568],\n",
       "        [0.87637452],\n",
       "        ...,\n",
       "        [0.6110126 ],\n",
       "        [0.59217467],\n",
       "        [0.6421189 ]]])"
      ]
     },
     "execution_count": 21,
     "metadata": {},
     "output_type": "execute_result"
    }
   ],
   "source": [
    "# X_test.shape\n",
    "X_test\n",
    "Y_test.shape\n",
    "X_train\n",
    "# df_test_final.shape"
   ]
  },
  {
   "cell_type": "code",
   "execution_count": 22,
   "id": "2d319131",
   "metadata": {},
   "outputs": [
    {
     "data": {
      "text/html": [
       "<div>\n",
       "<style scoped>\n",
       "    .dataframe tbody tr th:only-of-type {\n",
       "        vertical-align: middle;\n",
       "    }\n",
       "\n",
       "    .dataframe tbody tr th {\n",
       "        vertical-align: top;\n",
       "    }\n",
       "\n",
       "    .dataframe thead th {\n",
       "        text-align: right;\n",
       "    }\n",
       "</style>\n",
       "<table border=\"1\" class=\"dataframe\">\n",
       "  <thead>\n",
       "    <tr style=\"text-align: right;\">\n",
       "      <th></th>\n",
       "      <th>Close</th>\n",
       "    </tr>\n",
       "  </thead>\n",
       "  <tbody>\n",
       "    <tr>\n",
       "      <th>2258</th>\n",
       "      <td>36.430573</td>\n",
       "    </tr>\n",
       "    <tr>\n",
       "      <th>2259</th>\n",
       "      <td>35.487949</td>\n",
       "    </tr>\n",
       "    <tr>\n",
       "      <th>2260</th>\n",
       "      <td>37.987087</td>\n",
       "    </tr>\n",
       "    <tr>\n",
       "      <th>2261</th>\n",
       "      <td>37.740551</td>\n",
       "    </tr>\n",
       "    <tr>\n",
       "      <th>2262</th>\n",
       "      <td>37.759888</td>\n",
       "    </tr>\n",
       "  </tbody>\n",
       "</table>\n",
       "</div>"
      ],
      "text/plain": [
       "          Close\n",
       "2258  36.430573\n",
       "2259  35.487949\n",
       "2260  37.987087\n",
       "2261  37.740551\n",
       "2262  37.759888"
      ]
     },
     "execution_count": 22,
     "metadata": {},
     "output_type": "execute_result"
    }
   ],
   "source": [
    "df_train.tail()"
   ]
  },
  {
   "cell_type": "code",
   "execution_count": 23,
   "id": "e5327966",
   "metadata": {},
   "outputs": [],
   "source": [
    "scaler.scale_\n",
    "scale_factor = 1/scaler.scale_[0]\n",
    "y_predicted = y_predicted * scale_factor\n",
    "Y_test = Y_test * scale_factor"
   ]
  },
  {
   "cell_type": "code",
   "execution_count": 24,
   "id": "f104ded3",
   "metadata": {},
   "outputs": [
    {
     "data": {
      "image/png": "[encoded data removed]",
      "text/plain": [
       "<Figure size 864x576 with 1 Axes>"
      ]
     },
     "metadata": {
      "needs_background": "light"
     },
     "output_type": "display_data"
    }
   ],
   "source": [
    "plt.figure(figsize = (12,8))\n",
    "plt.plot(y_predicted, 'b')\n",
    "plt.plot(Y_test, 'r')\n",
    "plt.legend([\"Original Price\",\"Predicted Price\"])\n",
    "plt.title(\"Original and Predicted Closing Price\")\n",
    "plt.xlabel(\"Number of days\")\n",
    "plt.ylabel(\"Price\")\n",
    "plt.show()"
   ]
  },
  {
   "cell_type": "code",
   "execution_count": 25,
   "id": "ba3f1ab4",
   "metadata": {},
   "outputs": [],
   "source": [
    "model.save(\"keras_model.h5\")"
   ]
  }
 ],
 "metadata": {
  "kernelspec": {
   "display_name": "Python 3 (ipykernel)",
   "language": "python",
   "name": "python3"
  },
  "language_info": {
   "codemirror_mode": {
    "name": "ipython",
    "version": 3
   },
   "file_extension": ".py",
   "mimetype": "text/x-python",
   "name": "python",
   "nbconvert_exporter": "python",
   "pygments_lexer": "ipython3",
   "version": "3.9.12"
  }
 },
 "nbformat": 4,
 "nbformat_minor": 5
}
